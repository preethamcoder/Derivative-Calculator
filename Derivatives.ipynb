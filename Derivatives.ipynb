{
 "cells": [
  {
   "cell_type": "code",
   "execution_count": 1,
   "metadata": {},
   "outputs": [
    {
     "name": "stdout",
     "output_type": "stream",
     "text": [
      "Welcome to the DERIVATIVE calculator. This calculator is capable of differentiating single and multi-variable functions. Don't worry about the conditions, just enter the functions and variables!\n",
      "Enter the function you want to differentiate along the differentiating variable!\n"
     ]
    },
    {
     "name": "stdin",
     "output_type": "stream",
     "text": [
      "Function now:\n",
      " 72*x^10\n",
      "Variable now:\n",
      " x\n"
     ]
    },
    {
     "name": "stdout",
     "output_type": "stream",
     "text": [
      "The derivative of 72*x**10 with respect to x is: \n",
      "720*x^9\n"
     ]
    }
   ],
   "source": [
    "from sympy.utilities.lambdify import lambdify\n",
    "from sympy import *\n",
    "from numpy import *\n",
    "import math\n",
    "import sympy as sym\n",
    "import numpy as np\n",
    "a, b, c, d, e, f, g, h, i, j, k, l, m, n, o, p, q, r, s, t, u, v, w, x, y, z = sym.symbols('a b c d e f g h i j k l m n o p q r s t u v w x y z')\n",
    "print(\"Welcome to the DERIVATIVE calculator. This calculator is capable of differentiating single and multi-variable functions. Don't worry about the conditions, just enter the functions and variables!\")\n",
    "print(\"Enter the function you want to differentiate along the differentiating variable!\")\n",
    "aba = input(\"Function now:\\n\")\n",
    "diff_var = input(\"Variable now:\\n\")\n",
    "abc = aba.replace(\"^\", \"**\").replace(\"sin\", \"sym.sin\").replace(\"cos\", \"sym.cos\").replace(\"ln\", \"sym.ln\").replace(\"log\", \"sym.log\").replace(\"tan\", \"sym.tan\").replace(\"csc\", \"sym.csc\").replace(\"sec\", \"sym.sec\").replace(\"cot\", \"sym.cot\")\n",
    "def g(x):\n",
    "    func = eval(abc)\n",
    "    return func\n",
    "print(\"The derivative of \" + str(g(x)) + \" with respect to \" +diff_var+\" is: \")\n",
    "xa = str(sym.diff(g(x), diff_var))\n",
    "orderivative = xa.replace(\"**\", \"^\")\n",
    "print(orderivative.replace(\"**\", \"^\"))"
   ]
  }
 ],
 "metadata": {
  "kernelspec": {
   "display_name": "Python 3",
   "language": "python",
   "name": "python3"
  },
  "language_info": {
   "codemirror_mode": {
    "name": "ipython",
    "version": 3
   },
   "file_extension": ".py",
   "mimetype": "text/x-python",
   "name": "python",
   "nbconvert_exporter": "python",
   "pygments_lexer": "ipython3",
   "version": "3.8.8"
  }
 },
 "nbformat": 4,
 "nbformat_minor": 4
}
